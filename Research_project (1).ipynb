{
 "cells": [
  {
   "cell_type": "markdown",
   "id": "582df331",
   "metadata": {},
   "source": [
    "# NAME: DANIEL JIMENEZ\n",
    "# PID: 6388332\n",
    "## WEARABLE TECHNOLOGY DATABASE"
   ]
  },
  {
   "cell_type": "markdown",
   "id": "aca34605",
   "metadata": {},
   "source": [
    "# Organize and Clean"
   ]
  },
  {
   "cell_type": "markdown",
   "id": "d2943623",
   "metadata": {},
   "source": [
    "The code you provided is used to import necessary modules and functions for working with Apache Spark DataFrames in a PySpark environment.\n",
    "\n",
    "- `from pyspark.sql import SparkSession`: This line imports the `SparkSession` class from the `pyspark.sql` module. `SparkSession` is the entry point to programming Spark with the DataFrame API. It's used to create a `SparkSession` instance, which provides a way to interact with Spark functionalities such as reading data, performing transformations, and executing SQL queries.\n",
    "\n",
    "- `import pyspark.sql.functions as F`: This line imports the `pyspark.sql.functions` module and aliases it as `F` for convenience. The `functions` module provides a wide range of built-in functions for various operations on Spark DataFrames, such as mathematical calculations, string manipulation, date and time operations, and more. By importing it as `F`, you can easily access these functions with the prefix `F.`, like `F.col`, `F.sum`, `F.avg`, etc.\n",
    "\n"
   ]
  },
  {
   "cell_type": "code",
   "execution_count": 3,
   "id": "79a77023",
   "metadata": {},
   "outputs": [],
   "source": [
    "from pyspark.sql import SparkSession\n",
    "import pyspark.sql.functions as F"
   ]
  },
  {
   "cell_type": "markdown",
   "id": "b586b8a3",
   "metadata": {},
   "source": [
    "The line spark = SparkSession.builder.appName(\"WearablesAnalysis\").getOrCreate() is used to create a SparkSession object in a PySpark application"
   ]
  },
  {
   "cell_type": "code",
   "execution_count": 4,
   "id": "50e7c587",
   "metadata": {},
   "outputs": [],
   "source": [
    "spark = SparkSession.builder.appName(\"WearablesAnalysis\").getOrCreate()\n"
   ]
  },
  {
   "cell_type": "markdown",
   "id": "94a2638a",
   "metadata": {},
   "source": [
    "The line df = spark.read.csv(\"C:\\\\Users\\\\danie\\\\Downloads\\\\data\\\\Wearables-DFE.csv\", header=True, inferSchema=True) is used to read a CSV file into a Spark DataFrame in a PySpark application."
   ]
  },
  {
   "cell_type": "code",
   "execution_count": 8,
   "id": "eb82282f",
   "metadata": {},
   "outputs": [],
   "source": [
    "df = spark.read.csv(\"C:\\\\Users\\\\danie\\\\Downloads\\\\data\\\\Wearables-DFE.csv\", header=True, inferSchema=True)"
   ]
  },
  {
   "cell_type": "markdown",
   "id": "76a65d56",
   "metadata": {},
   "source": [
    "The df.show() method is used to display the first few rows of a Spark DataFrame in a tabular format. By default, it shows the first 20 rows of the DataFrame."
   ]
  },
  {
   "cell_type": "code",
   "execution_count": 4,
   "id": "58952c3f",
   "metadata": {},
   "outputs": [
    {
     "name": "stdout",
     "output_type": "stream",
     "text": [
      "+--------------------+------+-------------+-------------+-------------------+--------------------+------------------------+-------------+----------------+---------------+--------------+--------------------+-----------------+---+--------------------+\n",
      "|                name| price|body_location|     category|       company_name|         company_url|company_mapping_location| company_city|company_us_state|company_country|        source|                link|duplicates_note_1| id|               image|\n",
      "+--------------------+------+-------------+-------------+-------------------+--------------------+------------------------+-------------+----------------+---------------+--------------+--------------------+-----------------+---+--------------------+\n",
      "|\"Garmin Forerunne...|129.99|        Wrist|      Fitness|             Garmin|http://www.garmin...|    Olathe, Kansas, U...|       Olathe|          Kansas|  United States|Google Results|https://www.googl...|             null|542|data:image/jpeg;b...|\n",
      "|\"Garmin fenix 2 -...|399.99|        Wrist|      Fitness|             Garmin|http://www.garmin...|    Olathe, Kansas, U...|       Olathe|          Kansas|  United States|Google Results|https://www.googl...|             null|493|data:image/jpeg;b...|\n",
      "|\"LG Lifeband Touc...|126.99|        Wrist|      Fitness|                 Lg|   http://www.lg.com|      Seoul, South Korea|        Seoul|            null|    South Korea|Google Results|https://www.googl...|             null| 11|data:image/jpeg;b...|\n",
      "|\"Samsung Galaxy G...| 285.0|        Wrist|    Lifestyle|            Samsung|http://www.samsun...|      Seoul, South Korea|        Seoul|            null|    South Korea|Google Results|https://www.googl...|             null|112|data:image/jpeg;b...|\n",
      "|\"Samsung Gear Liv...|199.99|        Wrist|    Lifestyle|            Samsung|http://www.samsun...|      Seoul, South Korea|        Seoul|            null|    South Korea|Google Results|https://www.googl...|             null|154|data:image/jpeg;b...|\n",
      "|Accusplit AE920HR...| 76.99|        Wrist|      Fitness|          Accusplit|http://www.accusp...|    Pleasanton, Calif...|   Pleasanton|      California|  United States|Google Results|https://www.googl...|             null|131|data:image/jpeg;b...|\n",
      "|Adafruit Industri...|  7.95|         Neck|   Industrial|Adafruit Industries|http://www.adafru...|    New York City, Ne...|New York City|        New York|  United States|Google Results|https://www.googl...|             null| 48|data:image/jpeg;b...|\n",
      "|Adhesive Flat Sur...|  4.74|         Head|Entertainment|               null|                null|               Not Found|    Not Found|            null|           null|Google Results|http://www.google...|             null|101|data:image/jpeg;b...|\n",
      "|Barska GB12166 Fi...| 49.99|        Wrist|      Fitness|             Barska|http://www.barska...|    Pomona, Californi...|       Pomona|      California|  United States|Google Results|https://www.googl...|             null|200|data:image/jpeg;b...|\n",
      "|Belkin GS5 Sport ...| 24.99|         Arms|      Fitness|             Belkin|http://www.belkin...|    Playa Vista, Cali...|  Playa Vista|      California|  United States|Google Results|https://www.googl...|             null|129|data:image/jpeg;b...|\n",
      "|Bowflex EZ Pro He...| 12.99|        Wrist|      Fitness|            Bowflex|http://www.bowfle...|    Vancouver, Washin...|    Vancouver|      Washington|  United States|Google Results|https://www.googl...|             null|110|data:image/jpeg;b...|\n",
      "|COGITO CW2.0-003-...|179.99|        Wrist|    Lifestyle|             Cogito|http://cogitowatc...|        Hong Kong, China|    Hong Kong|            null|          China|Google Results|https://www.googl...|             null| 88|data:image/jpeg;b...|\n",
      "|COGITO Classic Co...|179.99|        Wrist|    Lifestyle|             Cogito|http://cogitowatc...|        Hong Kong, China|    Hong Kong|            null|          China|Google Results|https://www.googl...|             null|256|data:image/jpeg;b...|\n",
      "|Casio AQW100-1AV ...| 37.33|        Wrist|    Lifestyle|              Casio|http://www.casio.com|            Tokyo, Japan|        Tokyo|            null|          Japan|Google Results|https://www.googl...|             null|467|data:image/jpeg;b...|\n",
      "|Casio G-SHOCK Mul...| 41.31|        Wrist|    Lifestyle|              Casio|http://www.casio.com|            Tokyo, Japan|        Tokyo|            null|          Japan|Google Results|https://www.googl...|             null|482|data:image/jpeg;b...|\n",
      "|Casio LA-11WB-1 W...|  9.91|        Wrist|    Lifestyle|              Casio|http://www.casio.com|            Tokyo, Japan|        Tokyo|            null|          Japan|Google Results|https://www.googl...|             null|523|data:image/jpeg;b...|\n",
      "|Casio Mens G-Shoc...| 29.99|        Wrist|    Lifestyle|              Casio|http://www.casio.com|            Tokyo, Japan|        Tokyo|            null|          Japan|Google Results|https://www.googl...|             null|447|data:image/jpeg;b...|\n",
      "|Casio Mens Solar ...| 49.99|        Wrist|    Lifestyle|              Casio|http://www.casio.com|            Tokyo, Japan|        Tokyo|            null|          Japan|Google Results|https://www.googl...|             null|455|data:image/jpeg;b...|\n",
      "|Casio WS220 Solar...| 39.99|        Wrist|    Lifestyle|              Casio|http://www.casio.com|            Tokyo, Japan|        Tokyo|            null|          Japan|Google Results|https://www.googl...|             null|177|data:image/jpeg;b...|\n",
      "|Casio Wrist Watch...| 59.96|        Wrist|    Lifestyle|              Casio|http://www.casio.com|            Tokyo, Japan|        Tokyo|            null|          Japan|Google Results|https://www.googl...|             null|236|data:image/jpeg;b...|\n",
      "+--------------------+------+-------------+-------------+-------------------+--------------------+------------------------+-------------+----------------+---------------+--------------+--------------------+-----------------+---+--------------------+\n",
      "only showing top 20 rows\n",
      "\n"
     ]
    }
   ],
   "source": [
    "df.show() "
   ]
  },
  {
   "cell_type": "markdown",
   "id": "0206e039",
   "metadata": {},
   "source": [
    "The df.printSchema() method is used to display the schema of a Spark DataFrame. The schema shows the structure of the DataFrame, including the names of the columns, their data types, and whether they can contain null values."
   ]
  },
  {
   "cell_type": "code",
   "execution_count": 5,
   "id": "34bbcf27",
   "metadata": {},
   "outputs": [
    {
     "name": "stdout",
     "output_type": "stream",
     "text": [
      "root\n",
      " |-- name: string (nullable = true)\n",
      " |-- price: double (nullable = true)\n",
      " |-- body_location: string (nullable = true)\n",
      " |-- category: string (nullable = true)\n",
      " |-- company_name: string (nullable = true)\n",
      " |-- company_url: string (nullable = true)\n",
      " |-- company_mapping_location: string (nullable = true)\n",
      " |-- company_city: string (nullable = true)\n",
      " |-- company_us_state: string (nullable = true)\n",
      " |-- company_country: string (nullable = true)\n",
      " |-- source: string (nullable = true)\n",
      " |-- link: string (nullable = true)\n",
      " |-- duplicates_note_1: string (nullable = true)\n",
      " |-- id: integer (nullable = true)\n",
      " |-- image: string (nullable = true)\n",
      "\n"
     ]
    }
   ],
   "source": [
    "df.printSchema() "
   ]
  },
  {
   "cell_type": "markdown",
   "id": "656ff1dd",
   "metadata": {},
   "source": [
    " performs a series of operations to rename columns and standardize their names in a Spark DataFrame."
   ]
  },
  {
   "cell_type": "code",
   "execution_count": 6,
   "id": "3c413cbc",
   "metadata": {},
   "outputs": [],
   "source": [
    "from pyspark.sql.functions import col\n",
    "df = df.withColumnRenamed(\"Company...Mapping.Location\", \"Company_Mapping_Location\")\n",
    "df = df.withColumnRenamed(\"Company...City\", \"Company_City\")\n",
    "df = df.withColumnRenamed(\"Company...U.S..State\", \"Company_US_State\")\n",
    "df = df.withColumnRenamed(\"Company...Country\", \"Company_Country\")\n",
    "df = df.withColumnRenamed(\"Body.Location\", \"Body_Location\")\n",
    "df = df.withColumnRenamed(\"Company.Name\", \"Company_Name\")\n",
    "df = df.withColumnRenamed(\"Company.URL\", \"Company_URL\")\n",
    "df = df.withColumnRenamed(\"Duplicates.note.1\", \"Duplicates_note_1\")\n",
    "df = df.select([col(col_name).alias(col_name.strip()) for col_name in df.columns])\n",
    "df = df.select([col(col_name).alias(col_name.lower().replace(\" \", \"_\")) for col_name in df.columns])"
   ]
  },
  {
   "cell_type": "markdown",
   "id": "76572f8a",
   "metadata": {},
   "source": [
    "The line df = df.dropna(subset=[\"price\", \"category\"]) is used to remove rows from the Spark DataFrame df where there are missing values (nulls) in either the \"price\" column or the \"category\" column."
   ]
  },
  {
   "cell_type": "code",
   "execution_count": 7,
   "id": "e12ef2ff",
   "metadata": {},
   "outputs": [],
   "source": [
    "df = df.dropna(subset=[\"price\", \"category\"])\n"
   ]
  },
  {
   "cell_type": "markdown",
   "id": "4a9b5995",
   "metadata": {},
   "source": [
    "used to clean and convert the \"price\" column in a Spark DataFrame df to a numeric type (DoubleType).\n",
    "this line cleans the \"price\" column by removing non-numeric characters and then converts the cleaned column to a numeric data type (DoubleType), which is useful for performing numerical operations and analysis on the price data."
   ]
  },
  {
   "cell_type": "code",
   "execution_count": 8,
   "id": "7f925e1e",
   "metadata": {},
   "outputs": [],
   "source": [
    "from pyspark.sql.types import DoubleType\n",
    "from pyspark.sql.functions import regexp_replace\n",
    "df = df.withColumn(\"price\", regexp_replace(\"price\", \"[^0-9.]\", \"\").cast(DoubleType()))\n"
   ]
  },
  {
   "cell_type": "markdown",
   "id": "15a204a7",
   "metadata": {},
   "source": [
    "performs a series of filtering and deduplication operations on a Spark DataFrame df.\n",
    "Overall, these lines of code clean and refine the DataFrame by removing rows with missing or invalid price values, eliminating duplicates based on specific columns, and filtering out rows with excessively high prices. This can be useful for preparing the data for analysis or modeling by ensuring that it meets certain criteria and reducing redundancy."
   ]
  },
  {
   "cell_type": "code",
   "execution_count": 9,
   "id": "e3613da2",
   "metadata": {},
   "outputs": [],
   "source": [
    "df = df.filter(df[\"price\"].isNotNull() & (df[\"price\"] >= 0))\n",
    "df = df.dropDuplicates([\"name\", \"category\", \"company_name\"])\n",
    "df = df.filter(df[\"price\"] < 10000) "
   ]
  },
  {
   "cell_type": "markdown",
   "id": "f7ec16e7",
   "metadata": {},
   "source": [
    "iterates through all the columns of a Spark DataFrame df and trims leading and trailing whitespace from string-type columns."
   ]
  },
  {
   "cell_type": "code",
   "execution_count": 10,
   "id": "5a30ed5d",
   "metadata": {},
   "outputs": [],
   "source": [
    "from pyspark.sql.functions import trim\n",
    "from pyspark.sql.types import StringType\n",
    "for col_name in df.columns:\n",
    "    if df.schema[col_name].dataType == StringType():\n",
    "        df = df.withColumn(col_name, trim(col(col_name)))"
   ]
  },
  {
   "cell_type": "markdown",
   "id": "5e5bbd30",
   "metadata": {},
   "source": [
    "# Analyzing and techniques"
   ]
  },
  {
   "cell_type": "markdown",
   "id": "2f6ede74",
   "metadata": {},
   "source": [
    "performs a series of operations to clean and convert the 'price' column in a Spark DataFrame df. Here's a breakdown of what each line does:\n",
    "\n",
    "from pyspark.sql.functions import regexp_replace: This imports the regexp_replace function from the pyspark.sql.functions module. The regexp_replace function is used to replace substrings in a column that match a regular expression pattern with a specified replacement string.\n",
    "\n",
    "df = df.withColumn(\"price\", regexp_replace(\"price\", \"[^\\d.]\", \"\")): This line uses the regexp_replace function to remove any characters from the 'price' column that are not digits (\\d) or a decimal point (.). The regular expression pattern [^\\d.] matches any character that is not a digit or a decimal point, and the replacement string \"\" indicates that these characters should be removed. This effectively removes currency symbols, commas, and any other non-numeric characters from the 'price' column.\n",
    "\n",
    "df = df.withColumn(\"price\", col(\"price\").cast(DoubleType())): This line casts the cleaned 'price' column to a double-precision floating-point number (DoubleType). This converts the column from a string type to a numeric type, which is useful for performing numerical operations and analysis on the price data.\n",
    "\n",
    "df.select(\"price\").distinct().show(): This line displays the distinct values in the cleaned and casted 'price' column. It uses the select method to create a new DataFrame containing only the 'price' column, then the distinct method to remove duplicate values, and finally the show method to display the results.\n",
    "\n",
    "Overall, these lines of code clean the 'price' column by removing non-numeric characters and then convert the cleaned column to a numeric data type (DoubleType), which is useful for performing numerical operations and analysis on the price data."
   ]
  },
  {
   "cell_type": "code",
   "execution_count": 12,
   "id": "faab6e10",
   "metadata": {},
   "outputs": [
    {
     "name": "stdout",
     "output_type": "stream",
     "text": [
      "+------+\n",
      "| price|\n",
      "+------+\n",
      "| 299.0|\n",
      "|199.97|\n",
      "|169.99|\n",
      "| 169.0|\n",
      "|  45.3|\n",
      "|  9.49|\n",
      "| 92.95|\n",
      "|166.95|\n",
      "| 89.88|\n",
      "| 37.68|\n",
      "| 45.45|\n",
      "| 55.69|\n",
      "| 249.0|\n",
      "|291.99|\n",
      "| 24.78|\n",
      "|169.95|\n",
      "| 93.36|\n",
      "| 26.95|\n",
      "| 67.62|\n",
      "| 17.79|\n",
      "+------+\n",
      "only showing top 20 rows\n",
      "\n"
     ]
    }
   ],
   "source": [
    "from pyspark.sql.functions import regexp_replace\n",
    "\n",
    "# Remove currency symbols and commas from the 'price' column\n",
    "df = df.withColumn(\"price\", regexp_replace(\"price\", \"[^\\d.]\", \"\"))\n",
    "\n",
    "# Cast the cleaned 'price' column to double\n",
    "df = df.withColumn(\"price\", col(\"price\").cast(DoubleType()))\n",
    "\n",
    "# Show distinct cleaned and casted values in the 'price' column\n",
    "df.select(\"price\").distinct().show()"
   ]
  },
  {
   "cell_type": "markdown",
   "id": "9eb42fdb",
   "metadata": {},
   "source": [
    "\n",
    "The line df = df.drop(\"unnecessary_column\") is used to remove a column named \"unnecessary_column\" from a Spark DataFrame df. After this operation, the DataFrame df will no longer contain the column \"unnecessary_column\", and any subsequent operations on df will be performed without considering that column."
   ]
  },
  {
   "cell_type": "code",
   "execution_count": 13,
   "id": "2ae6df21",
   "metadata": {},
   "outputs": [],
   "source": [
    "df = df.drop(\"unnecessary_column\")"
   ]
  },
  {
   "cell_type": "code",
   "execution_count": 14,
   "id": "afe54581",
   "metadata": {},
   "outputs": [
    {
     "name": "stdout",
     "output_type": "stream",
     "text": [
      "+--------------------+------+-------------+------------------+------------+--------------------+------------------------+------------+----------------+---------------+--------------+--------------------+-----------------+---+--------------------+\n",
      "|                name| price|body_location|          category|company_name|         company_url|company_mapping_location|company_city|company_us_state|company_country|        source|                link|duplicates_note_1| id|               image|\n",
      "+--------------------+------+-------------+------------------+------------+--------------------+------------------------+------------+----------------+---------------+--------------+--------------------+-----------------+---+--------------------+\n",
      "|\"Garmin Forerunne...|249.99|        Wrist|         Lifestyle|      Garmin|http://www.garmin...|    Olathe, Kansas, U...|      Olathe|          Kansas|  United States|Google Results|https://www.googl...|             null|517|data:image/jpeg;b...|\n",
      "|\"Garmin Forerunne...| 400.0|        Wrist|           Fitness|      Garmin|http://www.garmin...|    Olathe, Kansas, U...|      Olathe|          Kansas|  United States|Google Results|https://www.googl...|             null|481|data:image/jpeg;b...|\n",
      "|\"LG Lifeband Touc...|126.99|        Wrist|           Fitness|          Lg|   http://www.lg.com|      Seoul, South Korea|       Seoul|            null|    South Korea|Google Results|https://www.googl...|             null|  5|data:image/jpeg;b...|\n",
      "|\"Samsung Galaxy G...| 169.0|        Wrist|         Lifestyle|     Samsung|http://www.samsun...|      Seoul, South Korea|       Seoul|            null|    South Korea|Google Results|https://www.googl...|             null| 13|data:image/jpeg;b...|\n",
      "|\"Samsung Galaxy G...| 99.99|        Wrist|         Lifestyle|     Samsung|http://www.samsun...|      Seoul, South Korea|       Seoul|            null|    South Korea|Google Results|https://www.googl...|             null| 46|data:image/jpeg;b...|\n",
      "|010-00863-34, GAR...| 153.4|        Wrist|           Fitness|      Garmin|http://www.garmin...|    Olathe, Kansas, U...|      Olathe|          Kansas|  United States|Google Results|http://www.google...|             null|440|data:image/jpeg;b...|\n",
      "|010-01225-38, GAR...|164.01|        Wrist|           Fitness|      Garmin|http://www.garmin...|    Olathe, Kansas, U...|      Olathe|          Kansas|  United States|Google Results|http://www.google...|             null|459|data:image/jpeg;b...|\n",
      "|180s Men's Founda...| 54.95|        Hands|         Lifestyle|        180s|http://www.180s.com/|    Baltimore, Maryla...|   Baltimore|        Maryland|  United States|Google Results|http://www.google...|             null|253|data:image/jpeg;b...|\n",
      "|25 Flash Drive Br...|267.25|        Wrist|         Lifestyle|        null|                null|               Not Found|   Not Found|            null|           null|Google Results|http://www.google...|             null| 31|data:image/jpeg;b...|\n",
      "|6314 Tool Tech Ma...| 12.65|        Hands|Lifestyle, Fitness|  Sas Safety|http://www.sassaf...|    Long Beach, Calif...|  Long Beach|      California|  United States|Google Results|https://www.googl...|             null|318|data:image/jpeg;b...|\n",
      "|Ablenet 10002000 ...|166.95|        Wrist|         Lifestyle|     Ablenet|http://www.ablene...|    Roseville, Minnes...|   Roseville|       Minnesota|  United States|Google Results|http://www.google...|             null| 96|data:image/jpeg;b...|\n",
      "|Accessories Garmi...| 24.99|        Wrist|         Lifestyle|      Garmin|http://www.garmin...|    Olathe, Kansas, U...|      Olathe|          Kansas|  United States|Google Results|https://www.googl...|             null|285|data:image/jpeg;b...|\n",
      "|Apple - Nike + iP...| 19.99|         Feet|           Fitness|        Nike|http://www.nike.com/|    Beaverton, Oregon...|   Beaverton|          Oregon|  United States|Google Results|https://www.googl...|             null| 28|data:image/jpeg;b...|\n",
      "|Archos Activity T...| 66.99|        Wrist|           Fitness|      Archos|http://www.archos...|            Igny, France|        Igny|            null|         France|Google Results|https://www.googl...|             null|286|data:image/jpeg;b...|\n",
      "|Bowflex EZ Pro He...| 12.99|        Wrist|           Fitness|     Bowflex|http://www.bowfle...|    Vancouver, Washin...|   Vancouver|      Washington|  United States|Google Results|https://www.googl...|             null|340|data:image/jpeg;b...|\n",
      "|Bowflex EZ Pro St...| 12.99|        Wrist|           Medical|     Bowflex|http://www.bowfle...|    Vancouver, Washin...|   Vancouver|      Washington|  United States|Google Results|https://www.googl...|             null|284|data:image/jpeg;b...|\n",
      "|CASIO Casio SGW30...| 41.99|        Wrist|         Lifestyle|       Casio|http://www.casio.com|            Tokyo, Japan|       Tokyo|            null|          Japan|Google Results|https://www.googl...|             null|279|data:image/jpeg;b...|\n",
      "|Casio A168W-1 Men...| 13.99|        Wrist|         Lifestyle|       Casio|http://www.casio.com|            Tokyo, Japan|       Tokyo|            null|          Japan|Google Results|https://www.googl...|             null|543|data:image/jpeg;b...|\n",
      "|Casio AQS810W Sol...| 43.16|        Wrist|         Lifestyle|       Casio|http://www.casio.com|            Tokyo, Japan|       Tokyo|            null|          Japan|Google Results|https://www.googl...|             null|505|data:image/jpeg;b...|\n",
      "|Casio Casio AMW-3...| 52.99|        Wrist|         Lifestyle|       Casio|http://www.casio.com|            Tokyo, Japan|       Tokyo|            null|          Japan|Google Results|https://www.googl...|             null| 98|data:image/jpeg;b...|\n",
      "+--------------------+------+-------------+------------------+------------+--------------------+------------------------+------------+----------------+---------------+--------------+--------------------+-----------------+---+--------------------+\n",
      "only showing top 20 rows\n",
      "\n"
     ]
    }
   ],
   "source": [
    "df.show()"
   ]
  },
  {
   "cell_type": "markdown",
   "id": "bcb8b211",
   "metadata": {},
   "source": [
    "The line print(\"Total rows:\", df.count()) is used to print the total number of rows in a Spark DataFrame df. "
   ]
  },
  {
   "cell_type": "code",
   "execution_count": 16,
   "id": "84a92d48",
   "metadata": {},
   "outputs": [
    {
     "name": "stdout",
     "output_type": "stream",
     "text": [
      "Total rows: 358\n"
     ]
    }
   ],
   "source": [
    "print(\"Total rows:\", df.count())"
   ]
  },
  {
   "cell_type": "code",
   "execution_count": 17,
   "id": "f5e9738e",
   "metadata": {},
   "outputs": [
    {
     "name": "stdout",
     "output_type": "stream",
     "text": [
      "Body.Location: 358\n"
     ]
    }
   ],
   "source": [
    "print(\"Body.Location:\", df.select(\"Name\").distinct().count())"
   ]
  },
  {
   "cell_type": "markdown",
   "id": "6d5d51d3",
   "metadata": {},
   "source": [
    "The line df.groupBy(\"Category\").count().show() is used to group the rows in a Spark DataFrame df by the \"Category\" column and count the number of rows in each category. "
   ]
  },
  {
   "cell_type": "code",
   "execution_count": 18,
   "id": "8f5c4ae2",
   "metadata": {
    "scrolled": true
   },
   "outputs": [
    {
     "name": "stdout",
     "output_type": "stream",
     "text": [
      "+------------------+-----+\n",
      "|          Category|count|\n",
      "+------------------+-----+\n",
      "|            Gaming|    1|\n",
      "|     Entertainment|   29|\n",
      "|           Fitness|  179|\n",
      "|        Industrial|    2|\n",
      "|  Pets and Animals|    3|\n",
      "|         Lifestyle|  120|\n",
      "|Lifestyle, Fitness|    3|\n",
      "|           Medical|   21|\n",
      "+------------------+-----+\n",
      "\n"
     ]
    }
   ],
   "source": [
    "df.groupBy(\"Category\").count().show()"
   ]
  },
  {
   "cell_type": "markdown",
   "id": "365ea111",
   "metadata": {},
   "source": [
    "Shows highest price"
   ]
  },
  {
   "cell_type": "code",
   "execution_count": 19,
   "id": "ed2064f6",
   "metadata": {},
   "outputs": [
    {
     "name": "stdout",
     "output_type": "stream",
     "text": [
      "+--------------------+------+\n",
      "|                Name| Price|\n",
      "+--------------------+------+\n",
      "|Polar CS600X GPS ...|2495.0|\n",
      "+--------------------+------+\n",
      "only showing top 1 row\n",
      "\n"
     ]
    }
   ],
   "source": [
    "df.orderBy(F.desc(\"Price\")).select(\"Name\", \"Price\").show(1)\n"
   ]
  },
  {
   "cell_type": "markdown",
   "id": "2791009b",
   "metadata": {},
   "source": [
    "Shows Lowest price"
   ]
  },
  {
   "cell_type": "code",
   "execution_count": 20,
   "id": "da3208cb",
   "metadata": {},
   "outputs": [
    {
     "name": "stdout",
     "output_type": "stream",
     "text": [
      "+--------------------+-----+\n",
      "|                Name|Price|\n",
      "+--------------------+-----+\n",
      "|Insten Mini Digit...| 3.99|\n",
      "+--------------------+-----+\n",
      "\n"
     ]
    }
   ],
   "source": [
    "from pyspark.sql import functions as F\n",
    "# Find the minimum price\n",
    "min_price = df.agg(F.min(\"Price\").alias(\"min_price\")).collect()[0][\"min_price\"]\n",
    "\n",
    "# Find the object(s) with the minimum price\n",
    "df.filter(F.col(\"Price\") == min_price).select(\"Name\", \"Price\").show()"
   ]
  },
  {
   "cell_type": "markdown",
   "id": "423cbb00",
   "metadata": {},
   "source": [
    "The line df.groupBy(\"Company_Name\").agg(F.avg(\"Price\").alias(\"average_price\")).show() is used to calculate the average price for each company in a Spark DataFrame df.\n",
    "\n",
    "df.groupBy(\"Company_Name\"): This uses the groupBy method of the DataFrame object to group the rows based on the values in the \"Company_Name\" column. It returns a GroupedData object, which can be used for aggregating the grouped data.\n",
    "\n",
    ".agg(F.avg(\"Price\").alias(\"average_price\")): This aggregates the grouped data by calculating the average of the \"Price\" column for each group (i.e., each company). The F.avg function computes the average, and the alias method is used to name the resulting column \"average_price\".\n",
    "\n",
    ".show(): This displays the result of the aggregation. The output will be a DataFrame with two columns: \"Company_Name\" and \"average_price\". The \"Company_Name\" column will contain the distinct company names from the original \"Company_Name\" column, and the \"average_price\" column will contain the average price for each company."
   ]
  },
  {
   "cell_type": "code",
   "execution_count": 21,
   "id": "632f7297",
   "metadata": {},
   "outputs": [
    {
     "name": "stdout",
     "output_type": "stream",
     "text": [
      "+-------------+------------------+\n",
      "| Company_Name|     average_price|\n",
      "+-------------+------------------+\n",
      "|       Belkin|             24.99|\n",
      "|      Scosche|             34.98|\n",
      "|       Papago| 86.83333333333333|\n",
      "|      Martian|            280.25|\n",
      "|       Striiv|             77.99|\n",
      "|         Nike|            59.495|\n",
      "|Xtreme Cables|             49.99|\n",
      "|       Suunto|             265.0|\n",
      "| Liquid Image|            299.99|\n",
      "|      X-Doria|              39.0|\n",
      "|          Mio|165.65666666666667|\n",
      "|     Magellan|          131.3925|\n",
      "|    Accusplit|             76.99|\n",
      "|         Sony|118.65166666666669|\n",
      "|        Casio|            46.568|\n",
      "|    Monoprice| 83.55333333333334|\n",
      "|         Mota|           73.6125|\n",
      "|     Motorola|            169.99|\n",
      "|     Freehand|            322.58|\n",
      "|     Lifetrak|           55.2825|\n",
      "+-------------+------------------+\n",
      "only showing top 20 rows\n",
      "\n"
     ]
    }
   ],
   "source": [
    "df.groupBy(\"Company_Name\").agg(F.avg(\"Price\").alias(\"average_price\")).show()"
   ]
  },
  {
   "cell_type": "markdown",
   "id": "e43243ed",
   "metadata": {},
   "source": [
    "the rows in a Spark DataFrame df based on the \"Price\" column and then selects specific columns to display.\n",
    "threshold = 100: This sets a variable threshold to a value of 100. This value will be used as a threshold for filtering the DataFrame.\n",
    "\n",
    "df.filter(df[\"Price\"] > threshold): This uses the filter method of the DataFrame object to filter the rows where the value in the \"Price\" column is greater than the threshold (in this case, 100). The result is a new DataFrame containing only the rows that meet this condition.\n",
    "\n",
    ".select(\"Name\", \"Price\"): This uses the select method to create a new DataFrame that includes only the \"Name\" and \"Price\" columns from the filtered DataFrame.\n",
    "\n",
    ".show(): This displays the first 20 rows of the resulting DataFrame. It shows the names and prices of the products that have a price greater than 100."
   ]
  },
  {
   "cell_type": "code",
   "execution_count": 22,
   "id": "49c0c9ea",
   "metadata": {},
   "outputs": [
    {
     "name": "stdout",
     "output_type": "stream",
     "text": [
      "+--------------------+------+\n",
      "|                Name| Price|\n",
      "+--------------------+------+\n",
      "|Samsung Galaxy Ge...|199.99|\n",
      "|Golf Buddy VT3 Bl...|199.99|\n",
      "|Martian Watches V...| 299.0|\n",
      "|POV Action Video ...|149.95|\n",
      "|Withings Pulse O2...|119.99|\n",
      "|Cogito Classic - ...|179.95|\n",
      "|MIDLAND XTC285VP ...|121.99|\n",
      "|Garmin VIRB Elite...|249.99|\n",
      "|Samsung Gear2 Neo...|199.99|\n",
      "|Garmin Forerunner...|129.99|\n",
      "|Shippingsmart bra...| 125.0|\n",
      "|Sony HDR-AS30V Di...|179.99|\n",
      "|Martian Watches P...| 299.0|\n",
      "|Garmin 010-N0863-...|209.11|\n",
      "|\"LG Lifeband Touc...|126.99|\n",
      "|  Freehand Glove Kit|322.58|\n",
      "|Pebble - Steel Sm...|199.99|\n",
      "|Samsung Gear S in...|349.99|\n",
      "|Jawbone - Up - Ac...|112.99|\n",
      "|LG LGW100-AUSAKT ...|149.99|\n",
      "+--------------------+------+\n",
      "only showing top 20 rows\n",
      "\n"
     ]
    }
   ],
   "source": [
    "threshold = 100\n",
    "df.filter(df[\"Price\"] > threshold).select(\"Name\", \"Price\").show()"
   ]
  },
  {
   "cell_type": "markdown",
   "id": "ae92329f",
   "metadata": {},
   "source": [
    "the rows in a Spark DataFrame df by the \"Company_Country\" column, counts the number of rows in each group, and then orders the results in descending order based on the count.\n",
    "\n",
    "df.groupBy(\"Company_Country\"): This uses the groupBy method of the DataFrame object to group the rows based on the values in the \"Company_Country\" column. It returns a GroupedData object, which can be used for aggregating the grouped data.\n",
    "\n",
    ".count(): This is called on the GroupedData object returned by groupBy. It aggregates the grouped data by counting the number of rows in each group (i.e., each country).\n",
    "\n",
    ".orderBy(F.desc(\"count\")): This orders the aggregated results in descending order based on the \"count\" column. The F.desc function is used to specify descending order.\n",
    "\n",
    ".show(): This displays the result of the aggregation and ordering. The output will be a DataFrame with two columns: \"Company_Country\" and \"count\". The \"Company_Country\" column will contain the distinct country names from the original \"Company_Country\" column, and the \"count\" column will contain the number of rows corresponding to each country, ordered from the highest count to the lowest."
   ]
  },
  {
   "cell_type": "code",
   "execution_count": 23,
   "id": "a0adabef",
   "metadata": {},
   "outputs": [
    {
     "name": "stdout",
     "output_type": "stream",
     "text": [
      "+---------------+-----+\n",
      "|Company_Country|count|\n",
      "+---------------+-----+\n",
      "|  United States|  256|\n",
      "|          Japan|   33|\n",
      "|    South Korea|   26|\n",
      "|         Taiwan|    8|\n",
      "|           null|    8|\n",
      "|          China|    8|\n",
      "|        Austria|    5|\n",
      "|    Netherlands|    4|\n",
      "|         France|    3|\n",
      "|        Finland|    3|\n",
      "|         Canada|    3|\n",
      "|          Italy|    1|\n",
      "+---------------+-----+\n",
      "\n"
     ]
    }
   ],
   "source": [
    "df.groupBy(\"Company_Country\").count().orderBy(F.desc(\"count\")).show()\n"
   ]
  },
  {
   "cell_type": "markdown",
   "id": "05e9086b",
   "metadata": {},
   "source": [
    "the rows in a Spark DataFrame df by the \"Category\" column, counts the number of rows in each group, and then orders the results in descending order based on the count. Finally, it displays the top 5 categories with the highest counts."
   ]
  },
  {
   "cell_type": "code",
   "execution_count": 24,
   "id": "83cce1a0",
   "metadata": {},
   "outputs": [
    {
     "name": "stdout",
     "output_type": "stream",
     "text": [
      "+----------------+-----+\n",
      "|        Category|count|\n",
      "+----------------+-----+\n",
      "|         Fitness|  179|\n",
      "|       Lifestyle|  120|\n",
      "|   Entertainment|   29|\n",
      "|         Medical|   21|\n",
      "|Pets and Animals|    3|\n",
      "+----------------+-----+\n",
      "only showing top 5 rows\n",
      "\n"
     ]
    }
   ],
   "source": [
    "df.groupBy(\"Category\").count().orderBy(F.desc(\"count\")).show(5)\n"
   ]
  },
  {
   "cell_type": "markdown",
   "id": "bc7be62c",
   "metadata": {},
   "source": [
    "the rows in a Spark DataFrame df by the \"Body_Location\" column, counts the number of rows in each group, and then orders the results in descending order based on the count. This displays the result of the aggregation and ordering. The output will be a DataFrame with two columns: \"Body_Location\" and \"count\". The \"Body_Location\" column will contain the distinct body location names from the original \"Body_Location\" column, and the \"count\" column will contain the number of rows corresponding to each body location, ordered from the highest count to the lowest"
   ]
  },
  {
   "cell_type": "code",
   "execution_count": 25,
   "id": "49a1a421",
   "metadata": {},
   "outputs": [
    {
     "name": "stdout",
     "output_type": "stream",
     "text": [
      "+-------------+-----+\n",
      "|Body_Location|count|\n",
      "+-------------+-----+\n",
      "|        Wrist|  267|\n",
      "|         Head|   29|\n",
      "|        Waist|   20|\n",
      "|        Chest|   19|\n",
      "|         Neck|    6|\n",
      "|        Hands|    5|\n",
      "|        Torso|    5|\n",
      "|         Arms|    4|\n",
      "|         Feet|    3|\n",
      "+-------------+-----+\n",
      "\n"
     ]
    }
   ],
   "source": [
    "df.groupBy(\"Body_Location\").count().orderBy(F.desc(\"count\")).show()"
   ]
  },
  {
   "cell_type": "markdown",
   "id": "31d96945",
   "metadata": {},
   "source": [
    "filters the rows in a Spark DataFrame df based on whether the \"Name\" column contains a specific keyword (\"Fitness\" in this case) and then selects the \"Name\" and \"Category\" columns to display. This shows the names and categories of the products that have the word \"Fitness\" in their names, which can be useful for identifying specific types of products or analyzing trends related to fitness products."
   ]
  },
  {
   "cell_type": "code",
   "execution_count": 26,
   "id": "eae0f312",
   "metadata": {},
   "outputs": [
    {
     "name": "stdout",
     "output_type": "stream",
     "text": [
      "+--------------------+--------+\n",
      "|                Name|Category|\n",
      "+--------------------+--------+\n",
      "|Barska GB12166 Fi...| Fitness|\n",
      "|X-doria KidFit / ...| Fitness|\n",
      "|Garmin - v�_vofit...| Fitness|\n",
      "|Jawbone UP Fitnes...| Fitness|\n",
      "|Misfit Wearables ...| Fitness|\n",
      "|Magellan Echo Fit...| Fitness|\n",
      "|Garmin Vivofit Fi...| Fitness|\n",
      "|Jawbone UP Fitnes...| Fitness|\n",
      "|Garmin Vivofita,,...| Fitness|\n",
      "|TomTom Fitness Co...| Fitness|\n",
      "|Garmin Vivofit Fi...| Fitness|\n",
      "|Garmin Vivofita,,...| Fitness|\n",
      "|Polar Loop Activi...| Fitness|\n",
      "|Jawbone UP24 Oran...| Fitness|\n",
      "|Pyle PSBTFS40 Blu...| Fitness|\n",
      "|Jawbone UP Fitnes...| Fitness|\n",
      "|010-01225-38, GAR...| Fitness|\n",
      "|LifeTrak C200 Cor...| Fitness|\n",
      "|Garmin Vivofit Fi...| Fitness|\n",
      "|Magellan Echo Fit...| Fitness|\n",
      "+--------------------+--------+\n",
      "only showing top 20 rows\n",
      "\n"
     ]
    }
   ],
   "source": [
    "keyword = \"Fitness\"\n",
    "df.filter(df[\"Name\"].contains(keyword)).select(\"Name\", \"Category\").show()"
   ]
  },
  {
   "cell_type": "markdown",
   "id": "a9ea84ec",
   "metadata": {},
   "source": [
    "The code you provided groups the rows in a Spark DataFrame df by the \"Category\" column, calculates the average price for each category, and then orders the results in descending order based on the average price. This displays the result of the aggregation and ordering. The output will be a DataFrame with two columns: \"Category\" and \"average_price\". The \"Category\" column will contain the distinct category names from the original \"Category\" column, and the \"average_price\" column will contain the average price for each category, ordered from the highest average price to the lowest."
   ]
  },
  {
   "cell_type": "code",
   "execution_count": 27,
   "id": "982e1cba",
   "metadata": {},
   "outputs": [
    {
     "name": "stdout",
     "output_type": "stream",
     "text": [
      "+------------------+------------------+\n",
      "|          Category|     average_price|\n",
      "+------------------+------------------+\n",
      "|         Lifestyle| 134.9269166666666|\n",
      "|           Fitness| 126.3767039106147|\n",
      "|     Entertainment|126.15965517241376|\n",
      "|           Medical|  89.0157142857143|\n",
      "|            Gaming|             81.87|\n",
      "|  Pets and Animals| 70.42333333333333|\n",
      "|Lifestyle, Fitness|             35.72|\n",
      "|        Industrial|20.845000000000002|\n",
      "+------------------+------------------+\n",
      "\n"
     ]
    }
   ],
   "source": [
    "df.groupBy(\"Category\").agg(F.avg(\"Price\").alias(\"average_price\")).orderBy(F.desc(\"average_price\")).show()"
   ]
  },
  {
   "cell_type": "markdown",
   "id": "eb09b9b9",
   "metadata": {},
   "source": [
    "performs a series of operations to split the contents of the \"Name\" column in a Spark DataFrame df into individual words, count the occurrences of each word, and display the words in descending order of their frequency.\n",
    "from pyspark.sql.functions import explode, split: This imports the explode and split functions from the pyspark.sql.functions module. The split function is used to split a string into an array of substrings based on a delimiter, and the explode function is used to transform each element of an array into a separate row.\n",
    "\n",
    "df.withColumn(\"word\", explode(split(F.col(\"Name\"), \"\\s+\"))): This line adds a new column \"word\" to the DataFrame df. The split function splits the \"Name\" column into an array of words using one or more whitespace characters (\"\\s+\") as the delimiter. The explode function then transforms each word in the array into a separate row.\n",
    "\n",
    ".groupBy(\"word\"): This groups the resulting rows by the \"word\" column.\n",
    "\n",
    ".count(): This counts the number of rows in each group, which gives the frequency of each word.\n",
    "\n",
    ".orderBy(F.desc(\"count\")): This orders the results in descending order based on the \"count\" column, so the most frequent words appear first.\n",
    "\n",
    ".show(): This displays the first 20 rows of the resulting DataFrame, which contains the words and their frequencies."
   ]
  },
  {
   "cell_type": "code",
   "execution_count": 28,
   "id": "466d41c0",
   "metadata": {},
   "outputs": [
    {
     "name": "stdout",
     "output_type": "stream",
     "text": [
      "+---------+-----+\n",
      "|     word|count|\n",
      "+---------+-----+\n",
      "|        -|  287|\n",
      "|    Heart|   85|\n",
      "|     Rate|   78|\n",
      "|    Watch|   58|\n",
      "|  Monitor|   56|\n",
      "|    Polar|   54|\n",
      "| Activity|   47|\n",
      "|    Black|   46|\n",
      "|     with|   38|\n",
      "|   Garmin|   35|\n",
      "|      GPS|   35|\n",
      "|  Fitness|   28|\n",
      "|      for|   26|\n",
      "|Bluetooth|   26|\n",
      "|  tracker|   24|\n",
      "|      and|   22|\n",
      "|    Smart|   22|\n",
      "|     Band|   21|\n",
      "|   Action|   21|\n",
      "|    Casio|   20|\n",
      "+---------+-----+\n",
      "only showing top 20 rows\n",
      "\n"
     ]
    }
   ],
   "source": [
    "from pyspark.sql.functions import explode, split\n",
    "\n",
    "df.withColumn(\"word\", explode(split(F.col(\"Name\"), \"\\s+\"))) \\\n",
    "  .groupBy(\"word\") \\\n",
    "  .count() \\\n",
    "  .orderBy(F.desc(\"count\")) \\\n",
    "  .show()"
   ]
  },
  {
   "cell_type": "markdown",
   "id": "a4d9e57f",
   "metadata": {},
   "source": [
    "converts a Spark DataFrame df to a Pandas DataFrame pdf, groups the data by the \"Category\" column, and then plots histograms of the \"Price\" distribution for each category. The result is a series of histograms, each showing the distribution of prices for a different category in the dataset. This can be useful for visualizing and comparing the price distributions across different categories."
   ]
  },
  {
   "cell_type": "code",
   "execution_count": 29,
   "id": "72e26a8f",
   "metadata": {},
   "outputs": [
    {
     "data": {
      "image/png": "[encoded data removed]",
      "text/plain": [
       "<Figure size 640x480 with 1 Axes>"
      ]
     },
     "metadata": {},
     "output_type": "display_data"
    },
    {
     "data": {
      "image/png": "[encoded data removed]",
      "text/plain": [
       "<Figure size 640x480 with 1 Axes>"
      ]
     },
     "metadata": {},
     "output_type": "display_data"
    },
    {
     "data": {
      "image/png": "[encoded data removed]",
      "text/plain": [
       "<Figure size 640x480 with 1 Axes>"
      ]
     },
     "metadata": {},
     "output_type": "display_data"
    },
    {
     "data": {
      "image/png": "[encoded data removed]",
      "text/plain": [
       "<Figure size 640x480 with 1 Axes>"
      ]
     },
     "metadata": {},
     "output_type": "display_data"
    },
    {
     "data": {
      "image/png": "[encoded data removed]",
      "text/plain": [
       "<Figure size 640x480 with 1 Axes>"
      ]
     },
     "metadata": {},
     "output_type": "display_data"
    },
    {
     "data": {
      "image/png": "[encoded data removed]",
      "text/plain": [
       "<Figure size 640x480 with 1 Axes>"
      ]
     },
     "metadata": {},
     "output_type": "display_data"
    },
    {
     "data": {
      "image/png": "[encoded data removed]",
      "text/plain": [
       "<Figure size 640x480 with 1 Axes>"
      ]
     },
     "metadata": {},
     "output_type": "display_data"
    },
    {
     "data": {
      "image/png": "[encoded data removed]",
      "text/plain": [
       "<Figure size 640x480 with 1 Axes>"
      ]
     },
     "metadata": {},
     "output_type": "display_data"
    }
   ],
   "source": [
    "import matplotlib.pyplot as plt\n",
    "import pandas as pd\n",
    "\n",
    "# Convert the Spark DataFrame to a Pandas DataFrame\n",
    "pdf = df.select(\"Category\", \"Price\").toPandas()\n",
    "\n",
    "# Group the data by category and plot the histograms\n",
    "for category_name, group in pdf.groupby(\"Category\"):\n",
    "    plt.hist(group[\"Price\"], bins=20)\n",
    "    plt.title(f\"Price Distribution for {category_name}\")\n",
    "    plt.xlabel(\"Price\")\n",
    "    plt.ylabel(\"Frequency\")\n",
    "    plt.show()"
   ]
  },
  {
   "cell_type": "code",
   "execution_count": null,
   "id": "aabb297e",
   "metadata": {},
   "outputs": [],
   "source": []
  }
 ],
 "metadata": {
  "kernelspec": {
   "display_name": "Python 3 (ipykernel)",
   "language": "python",
   "name": "python3"
  },
  "language_info": {
   "codemirror_mode": {
    "name": "ipython",
    "version": 3
   },
   "file_extension": ".py",
   "mimetype": "text/x-python",
   "name": "python",
   "nbconvert_exporter": "python",
   "pygments_lexer": "ipython3",
   "version": "3.11.5"
  }
 },
 "nbformat": 4,
 "nbformat_minor": 5
}
